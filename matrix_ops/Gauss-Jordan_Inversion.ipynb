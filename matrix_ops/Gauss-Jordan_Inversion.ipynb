{
 "cells": [
  {
   "cell_type": "code",
   "execution_count": 8,
   "metadata": {
    "ExecuteTime": {
     "end_time": "2020-12-27T21:20:58.236137Z",
     "start_time": "2020-12-27T21:20:58.233688Z"
    }
   },
   "outputs": [],
   "source": [
    "import numpy as np"
   ]
  },
  {
   "cell_type": "code",
   "execution_count": 12,
   "metadata": {
    "ExecuteTime": {
     "end_time": "2020-12-27T21:23:24.194364Z",
     "start_time": "2020-12-27T21:23:24.188418Z"
    }
   },
   "outputs": [],
   "source": [
    "def g_j_inverse(mat_orig):\n",
    "    \n",
    "    mat = np.copy(mat_orig)\n",
    "    \n",
    "    n = mat.shape[0]\n",
    "    \n",
    "    if (mat.shape[1] != n):\n",
    "        \n",
    "        return -1\n",
    "    \n",
    "    b_mat = np.identity(n)\n",
    "    \n",
    "    # For each row i\n",
    "    for i in range(n):\n",
    "        \n",
    "        # Eliminate each row j\n",
    "        for j in range(n):\n",
    "            \n",
    "            if (i != j):  \n",
    "                        \n",
    "                frac = mat[j,i]/mat[i,i]\n",
    "            \n",
    "                mat[j,:] = mat[j,:] - frac*mat[i,:]\n",
    "                \n",
    "                b_mat[j,:] = b_mat[j,:] - frac*b_mat[i,:]\n",
    "                \n",
    "        \n",
    "    for i in range(n):\n",
    "    \n",
    "        b_mat[i,:] = b_mat[i,:]/mat[i,i]\n",
    "        mat[i,:] = mat[i,:]/mat[i,i]\n",
    "                    \n",
    "    return b_mat"
   ]
  },
  {
   "cell_type": "code",
   "execution_count": 21,
   "metadata": {
    "ExecuteTime": {
     "end_time": "2020-12-27T21:29:25.006222Z",
     "start_time": "2020-12-27T21:29:25.002973Z"
    }
   },
   "outputs": [
    {
     "name": "stdout",
     "output_type": "stream",
     "text": [
      "[[ 1.00000000e+00 -2.20708982e-15 -2.04485962e-15 -4.27034634e-15]\n",
      " [-3.67424540e-15  1.00000000e+00 -4.60256563e-15 -2.65994575e-15]\n",
      " [-7.27817516e-16 -9.28467336e-16  1.00000000e+00 -2.26643553e-16]\n",
      " [ 1.87517497e-16 -1.45810536e-16 -2.39818313e-16  1.00000000e+00]]\n"
     ]
    }
   ],
   "source": [
    "mat = np.random.uniform(2,3,size=(4,4))\n",
    "\n",
    "inv = g_j_inverse(mat)\n",
    "\n",
    "print(inv @ mat)"
   ]
  },
  {
   "cell_type": "code",
   "execution_count": 22,
   "metadata": {
    "ExecuteTime": {
     "end_time": "2020-12-28T16:42:55.694145Z",
     "start_time": "2020-12-28T16:42:55.691890Z"
    }
   },
   "outputs": [],
   "source": [
    "def pseudoinverse(mat):\n",
    "    \n",
    "    return mat.T @ g_j_inverse(mat @ mat.T)"
   ]
  },
  {
   "cell_type": "code",
   "execution_count": null,
   "metadata": {},
   "outputs": [],
   "source": []
  }
 ],
 "metadata": {
  "kernelspec": {
   "display_name": "Python 3",
   "language": "python",
   "name": "python3"
  },
  "language_info": {
   "codemirror_mode": {
    "name": "ipython",
    "version": 3
   },
   "file_extension": ".py",
   "mimetype": "text/x-python",
   "name": "python",
   "nbconvert_exporter": "python",
   "pygments_lexer": "ipython3",
   "version": "3.8.5"
  },
  "varInspector": {
   "cols": {
    "lenName": 16,
    "lenType": 16,
    "lenVar": 40
   },
   "kernels_config": {
    "python": {
     "delete_cmd_postfix": "",
     "delete_cmd_prefix": "del ",
     "library": "var_list.py",
     "varRefreshCmd": "print(var_dic_list())"
    },
    "r": {
     "delete_cmd_postfix": ") ",
     "delete_cmd_prefix": "rm(",
     "library": "var_list.r",
     "varRefreshCmd": "cat(var_dic_list()) "
    }
   },
   "types_to_exclude": [
    "module",
    "function",
    "builtin_function_or_method",
    "instance",
    "_Feature"
   ],
   "window_display": false
  }
 },
 "nbformat": 4,
 "nbformat_minor": 4
}
