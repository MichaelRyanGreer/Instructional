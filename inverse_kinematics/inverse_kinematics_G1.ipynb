{
 "cells": [
  {
   "cell_type": "markdown",
   "metadata": {},
   "source": [
    "# Inverse Kinematics using Gradient Descent\n",
    "\n",
    "Author: Michael Greer\n",
    "\n",
    "This notebook introduces iterative inverse kinematics via jacobian inversion."
   ]
  },
  {
   "cell_type": "code",
   "execution_count": 1,
   "metadata": {
    "ExecuteTime": {
     "end_time": "2020-12-24T21:13:46.073220Z",
     "start_time": "2020-12-24T21:13:45.715556Z"
    }
   },
   "outputs": [],
   "source": [
    "import numpy as np\n",
    "from numpy import cos, sin, pi\n",
    "\n",
    "import matplotlib.pyplot as plt\n",
    "\n",
    "import sympy as sp"
   ]
  },
  {
   "cell_type": "markdown",
   "metadata": {},
   "source": [
    "### Forward Kinematics\n",
    "\n",
    "First, we define a function to plot the planar robot"
   ]
  },
  {
   "cell_type": "code",
   "execution_count": 2,
   "metadata": {
    "ExecuteTime": {
     "end_time": "2020-12-24T21:13:47.450372Z",
     "start_time": "2020-12-24T21:13:47.445760Z"
    }
   },
   "outputs": [],
   "source": [
    "def plot_robot(links, joints):\n",
    "    \n",
    "    # Convert to list if it's an ndarray\n",
    "    if (isinstance(joints, np.ndarray)):\n",
    "        joints = joints.flatten().tolist()\n",
    "    \n",
    "    xs = [0]\n",
    "    ys = [0]\n",
    "    \n",
    "    total_len = sum(links)\n",
    "    \n",
    "    total_q = 0\n",
    "    \n",
    "    for l,q in zip(links, joints):\n",
    "        \n",
    "        total_q += q\n",
    "        \n",
    "        xs.append(xs[-1] + l * cos(total_q))\n",
    "        ys.append(ys[-1] + l * sin(total_q))\n",
    "        \n",
    "    plt.figure(figsize=(8,8))\n",
    "    plt.plot(xs, ys)\n",
    "    plt.ylim(-1 * total_len, total_len)\n",
    "    plt.xlim(-1 * total_len, total_len)\n",
    "    plt.title('Robot Manipulator Pose')\n",
    "    \n",
    "    return"
   ]
  },
  {
   "cell_type": "code",
   "execution_count": 3,
   "metadata": {
    "ExecuteTime": {
     "end_time": "2020-12-24T21:13:47.780137Z",
     "start_time": "2020-12-24T21:13:47.645952Z"
    }
   },
   "outputs": [
    {
     "data": {
      "image/png": "[encoded data removed]",
      "text/plain": [
       "<Figure size 576x576 with 1 Axes>"
      ]
     },
     "metadata": {
      "needs_background": "light"
     },
     "output_type": "display_data"
    }
   ],
   "source": [
    "# Change the joint values to see how the arm moves\n",
    "\n",
    "plot_robot([5, 5, 5], [0, pi/2, -pi/2])"
   ]
  },
  {
   "cell_type": "markdown",
   "metadata": {},
   "source": [
    "From this, we can see that the forward kinematics are simply:\n",
    "\n",
    "$$ x = \\sum_{i=1}^n l_{i}cos(\\sum_{j=1}^{i}q_{j})$$\n",
    "$$ y = \\sum_{i=1}^n l_{i}sin(\\sum_{j=1}^{i}q_{j})$$\n",
    "\n",
    "The forward kinematics give us the cartesian end effector position at a certain configuration, implemented in the function below."
   ]
  },
  {
   "cell_type": "code",
   "execution_count": 4,
   "metadata": {
    "ExecuteTime": {
     "end_time": "2020-12-24T21:13:47.996168Z",
     "start_time": "2020-12-24T21:13:47.992405Z"
    }
   },
   "outputs": [],
   "source": [
    "def f_kine(links, joints):\n",
    "    \n",
    "    # Convert to list if it's an ndarray\n",
    "    if (isinstance(joints, np.ndarray)):\n",
    "        joints = joints.flatten().tolist()\n",
    "    \n",
    "    x = 0\n",
    "    y = 0\n",
    "    \n",
    "    total_len = sum(links)\n",
    "    \n",
    "    total_q = 0\n",
    "    \n",
    "    for l,q in zip(links, joints):\n",
    "        \n",
    "        total_q += q\n",
    "        \n",
    "        x += l * cos(total_q)\n",
    "        y += l * sin(total_q)\n",
    "        \n",
    "    return np.array([[x],[y]])"
   ]
  },
  {
   "cell_type": "markdown",
   "metadata": {},
   "source": [
    "### Jacobian\n",
    "\n",
    "The jacobian is simply an array comprised of the derivative of the forward kinematic function with respect to each of the joints, evaluated at those joint values. For the 2-D case, this is:\n",
    "\n",
    "$$\\begin{bmatrix} \\frac{\\partial f_{x}}{\\partial q_{1}} & \\frac{\\partial f_{x}}{\\partial q_{2}} & ... & \\frac{\\partial f_{x}}{\\partial q_{n}} \\\\ \\frac{\\partial f_{y}}{\\partial q_{1}} & \\frac{\\partial f_{y}}{\\partial q_{2}} & ... & \\frac{\\partial f_{y}}{\\partial q_{n}} \\end{bmatrix}$$\n",
    "\n",
    "Where n is the total number of joints in the robot. For simplicity in the code, the link and joint values are indexed at 0 instead of 1."
   ]
  },
  {
   "cell_type": "code",
   "execution_count": 5,
   "metadata": {
    "ExecuteTime": {
     "end_time": "2020-12-24T21:13:48.310406Z",
     "start_time": "2020-12-24T21:13:48.303861Z"
    }
   },
   "outputs": [],
   "source": [
    "def jacobian(links, joints):\n",
    "    \n",
    "    # Convert to list if it's an ndarray\n",
    "    if (isinstance(joints, np.ndarray)):\n",
    "        joints = joints.flatten().tolist()\n",
    "            \n",
    "    # Form symbolic q matrix\n",
    "    \n",
    "    qs = []\n",
    "    \n",
    "    for i in range(0,len(joints)):\n",
    "        \n",
    "        qs.append(sp.Symbol('q{}'.format(i)))\n",
    "        \n",
    "        \n",
    "    jac = np.zeros((2, len(links)))\n",
    "    \n",
    "    x = 0\n",
    "    y = 0\n",
    "    \n",
    "    # Form forward kinematics\n",
    "    for i in range(len(links)):\n",
    "                   \n",
    "        total_q = 0\n",
    "        \n",
    "        for j in range(i + 1):\n",
    "            \n",
    "            total_q += qs[j]\n",
    "            \n",
    "        x += links[i] * sp.cos(total_q)\n",
    "        y += links[i] * sp.sin(total_q)\n",
    "        \n",
    "    \n",
    "    # Differentiate to find jacobian      \n",
    "    for i in range(len(links)):\n",
    "        \n",
    "        Jx = sp.diff(x, qs[i])\n",
    "        Jy = sp.diff(y, qs[i])\n",
    "        \n",
    "        for k in range(len(links)):\n",
    "            \n",
    "            Jx = Jx.subs(qs[k], joints[k])\n",
    "            Jy = Jy.subs(qs[k], joints[k])\n",
    "                \n",
    "        jac[0,i] = Jx.evalf()\n",
    "        jac[1,i] = Jy.evalf()\n",
    "            \n",
    "    return jac"
   ]
  },
  {
   "cell_type": "markdown",
   "metadata": {},
   "source": [
    "The significance of the jacobian is that it shows us each joint's ability to move the end effector in the x and y directions. The larger the value in the jacobian matrix, the greater that joint's ability to move the end effector in that direction. This also brings us to another method for calculating the jacobian which involves taking the cross product between the joint axis and the vector between the joint origin and the end effector, but that's a subject for another time. The relationship between joint movement and end effector movement can be shown as:\n",
    "$$\\dot{x}=J\\dot{\\theta}$$\n",
    "We can rearrange this to form:\n",
    "$$\\dot{\\theta}=J^{+}\\dot{x}$$\n",
    "Since the jacobian is not square in the redundant case, we use the psuedoinverse instead (denotated by the superscript +). Now we can specify a desired movement in the cartesian space, and use this to find what the corresponding movement should be in the joint space. Since this is a linear approximation, we limit the size of any individual $\\dot{x}$ and repeat this process until we get close to our target."
   ]
  },
  {
   "cell_type": "code",
   "execution_count": 6,
   "metadata": {
    "ExecuteTime": {
     "end_time": "2020-12-24T21:13:48.930530Z",
     "start_time": "2020-12-24T21:13:48.926152Z"
    }
   },
   "outputs": [],
   "source": [
    "# Note: this ONLY works for targets within the workspace. For points outside the workspace this function will not exit\n",
    "def i_kine_G1(links, joints, target, error_trace=False):\n",
    "    \n",
    "    current_q = joints\n",
    "    \n",
    "    max_move = 5\n",
    "    \n",
    "    e_trace = []\n",
    "    \n",
    "    while(1):\n",
    "        \n",
    "        # Get the current end effector position\n",
    "        current_x = f_kine(links, current_q)\n",
    "        \n",
    "        # Get the vector to the target\n",
    "        delta_x = target - current_x\n",
    "        \n",
    "        # Find the magnitude of the movement required\n",
    "        delta_x_norm = np.linalg.norm(delta_x)\n",
    "        \n",
    "        e_trace.append(delta_x_norm)\n",
    "        \n",
    "        #print(delta_x_norm)\n",
    "        \n",
    "        # Limit the maximum magnitude of delta_x\n",
    "        if (delta_x_norm > max_move):\n",
    "            \n",
    "            delta_x /= (delta_x_norm / max_move)\n",
    "            \n",
    "        # Stop if the end effector is sufficently close to target\n",
    "        if (delta_x_norm < 0.01):\n",
    "            \n",
    "            break\n",
    "            \n",
    "        jac = jacobian(links, current_q)\n",
    "        \n",
    "        # Find the required movements in the joint space\n",
    "        alpha = 0.001\n",
    "        delta_q = alpha * jac.T @ delta_x\n",
    "        \n",
    "        # Add the change to find the updated joint angles\n",
    "        current_q += delta_q\n",
    "        \n",
    "    return (current_q, e_trace) if error_trace else current_q"
   ]
  },
  {
   "cell_type": "code",
   "execution_count": 8,
   "metadata": {
    "ExecuteTime": {
     "end_time": "2020-12-24T21:14:03.343473Z",
     "start_time": "2020-12-24T21:14:00.149897Z"
    }
   },
   "outputs": [
    {
     "data": {
      "text/plain": [
       "Text(0.5, 1.0, 'Error Trace')"
      ]
     },
     "execution_count": 8,
     "metadata": {},
     "output_type": "execute_result"
    },
    {
     "data": {
      "image/png": "[encoded data removed]",
      "text/plain": [
       "<Figure size 576x576 with 1 Axes>"
      ]
     },
     "metadata": {
      "needs_background": "light"
     },
     "output_type": "display_data"
    },
    {
     "data": {
      "image/png": "[encoded data removed]",
      "text/plain": [
       "<Figure size 576x576 with 1 Axes>"
      ]
     },
     "metadata": {
      "needs_background": "light"
     },
     "output_type": "display_data"
    }
   ],
   "source": [
    "links = [5.0, 5.0, 5.0, 5.0, 5.0, 5.0, 5.0, 5.0]\n",
    "joints = np.array([[0.0],[0.0],[0.0],[0.0],[0.0],[0.0],[0.0],[0.0]])\n",
    "target = np.array([[10.0],[-10.0]])\n",
    "\n",
    "joints, e_trace = i_kine_G1(links, joints, target, error_trace=True)\n",
    "\n",
    "plot_robot(links, joints)\n",
    "\n",
    "plt.figure(figsize=(8,8))\n",
    "plt.plot(e_trace)\n",
    "plt.title('Error Trace')"
   ]
  },
  {
   "cell_type": "markdown",
   "metadata": {},
   "source": [
    "### Analysis\n",
    "\n",
    "We can clearly see that this method is suitable to reduce end effector error. Compared to the direct inverse kinematics approach this iterative method takes more time, but remember that the direct approach is not applicable to redundant manipulators. This iterative approach also has the benefit of incorporating multi-objective solutions. These objectives can be joint movement reduction, joint limit avoidance, and collision avoidance. This method can also generalize to any structure that is an open kinematic chain; test this by changing the structure of the robot in the previous cell.\n",
    "\n",
    "One of the downsides is the fact that the pseudoinverse function is somewhat computationally expensive. There are also other solutions that do not involve inversion that are faster, but typically involve approximation."
   ]
  },
  {
   "cell_type": "code",
   "execution_count": null,
   "metadata": {},
   "outputs": [],
   "source": []
  }
 ],
 "metadata": {
  "kernelspec": {
   "display_name": "Python 3",
   "language": "python",
   "name": "python3"
  },
  "language_info": {
   "codemirror_mode": {
    "name": "ipython",
    "version": 3
   },
   "file_extension": ".py",
   "mimetype": "text/x-python",
   "name": "python",
   "nbconvert_exporter": "python",
   "pygments_lexer": "ipython3",
   "version": "3.8.5"
  },
  "varInspector": {
   "cols": {
    "lenName": 16,
    "lenType": 16,
    "lenVar": 40
   },
   "kernels_config": {
    "python": {
     "delete_cmd_postfix": "",
     "delete_cmd_prefix": "del ",
     "library": "var_list.py",
     "varRefreshCmd": "print(var_dic_list())"
    },
    "r": {
     "delete_cmd_postfix": ") ",
     "delete_cmd_prefix": "rm(",
     "library": "var_list.r",
     "varRefreshCmd": "cat(var_dic_list()) "
    }
   },
   "types_to_exclude": [
    "module",
    "function",
    "builtin_function_or_method",
    "instance",
    "_Feature"
   ],
   "window_display": false
  }
 },
 "nbformat": 4,
 "nbformat_minor": 4
}
