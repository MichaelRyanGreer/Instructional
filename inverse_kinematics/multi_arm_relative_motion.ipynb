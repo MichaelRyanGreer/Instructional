{
 "cells": [
  {
   "cell_type": "code",
   "execution_count": 86,
   "metadata": {},
   "outputs": [],
   "source": [
    "import numpy as np\n",
    "from numpy import cos, sin, pi\n",
    "\n",
    "import matplotlib.pyplot as plt\n",
    "\n",
    "import sympy as sp"
   ]
  },
  {
   "cell_type": "code",
   "execution_count": 87,
   "metadata": {},
   "outputs": [],
   "source": [
    "def robot_lines(links, joints, base):\n",
    "    \n",
    "    # Convert to list if it's an ndarray\n",
    "    if (isinstance(joints, np.ndarray)):\n",
    "        joints = joints.flatten().tolist()\n",
    "    \n",
    "    xb, yb = base\n",
    "    \n",
    "    xs = [xb]\n",
    "    ys = [yb]\n",
    "    \n",
    "    total_len = sum(links)\n",
    "    \n",
    "    total_q = 0\n",
    "    \n",
    "    for l,q in zip(links, joints):\n",
    "        \n",
    "        total_q += q\n",
    "        \n",
    "        xs.append(xs[-1] + l * cos(total_q))\n",
    "        ys.append(ys[-1] + l * sin(total_q))\n",
    "        \n",
    "    #plt.figure(figsize=(8,8))\n",
    "    #plt.plot(xs, ys)\n",
    "    #plt.ylim(-1 * total_len, total_len)\n",
    "    #plt.xlim(-1 * total_len, total_len)\n",
    "    #plt.title('Robot Manipulator Pose')\n",
    "    \n",
    "    return xs, ys"
   ]
  },
  {
   "cell_type": "code",
   "execution_count": 131,
   "metadata": {},
   "outputs": [],
   "source": [
    "def plot_robots(xs_list, ys_list, target):\n",
    "    \n",
    "    plt.figure(figsize=(8,8))\n",
    "    plt.axis('equal')\n",
    "    \n",
    "    for xs, ys in zip(xs_list, ys_list):\n",
    "        plt.plot(xs, ys)\n",
    "        \n",
    "    plt.plot(target[0], target[1], 'o')\n",
    "        \n",
    "    plt.title('Robot Manipulator Pose')\n",
    "    \n",
    "    plt.grid()\n",
    "    \n",
    "    return"
   ]
  },
  {
   "cell_type": "code",
   "execution_count": 156,
   "metadata": {},
   "outputs": [
    {
     "data": {
      "image/png": "[encoded data removed]",
      "text/plain": [
       "<Figure size 576x576 with 1 Axes>"
      ]
     },
     "metadata": {
      "needs_background": "light"
     },
     "output_type": "display_data"
    }
   ],
   "source": [
    "xs1, ys1 = robot_lines([5, 5, 5], [pi/2, -pi/2, -pi/2], (-5, 0))\n",
    "xs2, ys2 = robot_lines([5, 5, 5], [0, -pi/2, 0], (5, 0))\n",
    "\n",
    "xs = [xs1,xs2]\n",
    "ys = [ys1,ys2]\n",
    "\n",
    "xs, ys\n",
    "\n",
    "tar = np.array([[1],[1]])\n",
    "\n",
    "theta_total = sum([pi/2, -pi/2, -pi/2])\n",
    "        \n",
    "R = np.array([[cos(theta_total), -1*sin(theta_total)],\n",
    "              [sin(theta_total), cos(theta_total)]])\n",
    "\n",
    "tar_rel = (R @ tar) + f_kine([5, 5, 5], [pi/2, -pi/2, -pi/2], (-5, 0))\n",
    "\n",
    "plot_robots(xs, ys, tar_rel)"
   ]
  },
  {
   "cell_type": "code",
   "execution_count": 38,
   "metadata": {},
   "outputs": [],
   "source": [
    "def f_kine(links, joints, base):\n",
    "    \n",
    "    # Convert to list if it's an ndarray\n",
    "    if (isinstance(joints, np.ndarray)):\n",
    "        joints = joints.flatten().tolist()\n",
    "    \n",
    "    x,y = base\n",
    "    \n",
    "    total_len = sum(links)\n",
    "    \n",
    "    total_q = 0\n",
    "    \n",
    "    for l,q in zip(links, joints):\n",
    "        \n",
    "        total_q += q\n",
    "        \n",
    "        x += l * cos(total_q)\n",
    "        y += l * sin(total_q)\n",
    "        \n",
    "    return np.array([[x],[y]])"
   ]
  },
  {
   "cell_type": "code",
   "execution_count": 39,
   "metadata": {},
   "outputs": [],
   "source": [
    "def jacobian(links, joints):\n",
    "    \n",
    "    # Convert to list if it's an ndarray\n",
    "    if (isinstance(joints, np.ndarray)):\n",
    "        joints = joints.flatten().tolist()\n",
    "            \n",
    "    # Form symbolic q matrix\n",
    "    \n",
    "    qs = []\n",
    "    \n",
    "    for i in range(0,len(joints)):\n",
    "        \n",
    "        qs.append(sp.Symbol('q{}'.format(i)))\n",
    "        \n",
    "        \n",
    "    jac = np.zeros((2, len(links)))\n",
    "    \n",
    "    x = 0\n",
    "    y = 0\n",
    "    \n",
    "    # Form forward kinematics\n",
    "    for i in range(len(links)):\n",
    "                   \n",
    "        total_q = 0\n",
    "        \n",
    "        for j in range(i + 1):\n",
    "            \n",
    "            total_q += qs[j]\n",
    "            \n",
    "        x += links[i] * sp.cos(total_q)\n",
    "        y += links[i] * sp.sin(total_q)\n",
    "        \n",
    "    \n",
    "    # Differentiate to find jacobian      \n",
    "    for i in range(len(links)):\n",
    "        \n",
    "        Jx = sp.diff(x, qs[i])\n",
    "        Jy = sp.diff(y, qs[i])\n",
    "        \n",
    "        for k in range(len(links)):\n",
    "            \n",
    "            Jx = Jx.subs(qs[k], joints[k])\n",
    "            Jy = Jy.subs(qs[k], joints[k])\n",
    "                \n",
    "        jac[0,i] = Jx.evalf()\n",
    "        jac[1,i] = Jy.evalf()\n",
    "            \n",
    "    return jac"
   ]
  },
  {
   "cell_type": "code",
   "execution_count": 167,
   "metadata": {},
   "outputs": [],
   "source": [
    "# Note: this ONLY works for targets within the workspace. For points outside the workspace this function will not exit\n",
    "\n",
    "# We use four frames here:\n",
    "#  Frame 1: Base of Robot 1\n",
    "#  Frame 2: EF of Robot 1\n",
    "#  Frame 3: EF of Robot 2\n",
    "#  Frame 4: Base of Robot 2\n",
    "\n",
    "# We are ignoring the wrench matrix for this operation\n",
    "\n",
    "def i_kine_dual(links_1, joints_1, base_1, links_2, joints_2, base_2, target, error_trace=False):\n",
    "    \n",
    "    current_q_1 = joints_1\n",
    "    current_q_2 = joints_2\n",
    "    \n",
    "    # This term limits the maximum delta x per move\n",
    "    max_move = 2\n",
    "    \n",
    "    e_trace = []\n",
    "    \n",
    "    while(1):\n",
    "        \n",
    "        # Get the current rotation between frames 1 and 2\n",
    "                \n",
    "        theta_total = np.sum(current_q_1)\n",
    "        \n",
    "        R = np.array([[cos(theta_total), -1*sin(theta_total)],\n",
    "                      [sin(theta_total), cos(theta_total)]])\n",
    "                \n",
    "        # Get the current target effector position in frame 1\n",
    "        current_x_1 = f_kine(links_1, current_q_1, base_1)\n",
    "        current_x_2 = f_kine(links_2, current_q_2, base_2)\n",
    "        \n",
    "        target_rel = (R @ target) + current_x_1\n",
    "        \n",
    "        # Get the vector to the target\n",
    "        delta_x = target_rel - current_x_2\n",
    "        \n",
    "        # Find the magnitude of the movement required\n",
    "        delta_x_norm = np.linalg.norm(delta_x)\n",
    "        \n",
    "        #print(delta_x_norm)\n",
    "        \n",
    "        e_trace.append(delta_x_norm)\n",
    "        \n",
    "        # Limit the maximum magnitude of delta_x\n",
    "        if (delta_x_norm > max_move):\n",
    "            \n",
    "            delta_x /= (delta_x_norm / max_move)\n",
    "            \n",
    "        # Stop if the end effector is sufficently close to target\n",
    "        if (delta_x_norm < 0.001):\n",
    "            \n",
    "            break\n",
    "            \n",
    "        jac1 = jacobian(links_1, current_q_1)\n",
    "        jac2 = jacobian(links_2, current_q_2)\n",
    "        \n",
    "        jac_rel = np.hstack((-1*R@jac1, R@jac2))\n",
    "        \n",
    "        # Jacobian pseudoinversion\n",
    "        jac_rel_pinv = np.linalg.pinv(jac_rel)\n",
    "        \n",
    "        # Find the required movements in the joint space\n",
    "        alpha = 0.4\n",
    "        delta_q = alpha * jac_rel_pinv @ delta_x\n",
    "        \n",
    "        # Add the change to find the updated joint angles\n",
    "        current_q_1 += delta_q[:len(current_q_1),:]\n",
    "        current_q_2 += delta_q[len(current_q_1):,:]\n",
    "        \n",
    "    return (current_q_1, current_q_2, e_trace) if error_trace else (current_q_1, current_q_2)"
   ]
  },
  {
   "cell_type": "code",
   "execution_count": 168,
   "metadata": {},
   "outputs": [
    {
     "data": {
      "text/plain": [
       "Text(0.5, 1.0, 'Error Trace')"
      ]
     },
     "execution_count": 168,
     "metadata": {},
     "output_type": "execute_result"
    },
    {
     "data": {
      "image/png": "[encoded data removed]",
      "text/plain": [
       "<Figure size 576x576 with 1 Axes>"
      ]
     },
     "metadata": {
      "needs_background": "light"
     },
     "output_type": "display_data"
    },
    {
     "data": {
      "image/png": "[encoded data removed]",
      "text/plain": [
       "<Figure size 576x576 with 1 Axes>"
      ]
     },
     "metadata": {
      "needs_background": "light"
     },
     "output_type": "display_data"
    }
   ],
   "source": [
    "# Robot 1\n",
    "links_1 = [5, 5, 5]\n",
    "joints_1 = np.array([[0.0], [-1.0], [0.0]])\n",
    "base_1 = (-5, 0)\n",
    "\n",
    "# Robot 2\n",
    "links_2 = [5, 5, 5]\n",
    "joints_2 = np.array([[0.0], [-1.0], [0.0]])\n",
    "base_2 = (5, 0)\n",
    "\n",
    "target = np.array([[1.0],[2.0]])\n",
    "\n",
    "qs1, qs2, e_trace = i_kine_dual(links_1, joints_1, base_1, links_2, joints_2, base_2, target, error_trace=True)\n",
    "\n",
    "xs1, ys1 = robot_lines(links_1, qs1, base_1)\n",
    "xs2, ys2 = robot_lines(links_2, qs2, base_2)\n",
    "\n",
    "theta_total = sum(qs1)\n",
    "        \n",
    "R = np.array([[cos(theta_total), -1*sin(theta_total)],\n",
    "              [sin(theta_total), cos(theta_total)]])\n",
    "\n",
    "R = R.squeeze()\n",
    "\n",
    "tar_rel = (R @ target) + f_kine(links_1, qs1, base_1)\n",
    "\n",
    "xs = [xs1,xs2]\n",
    "ys = [ys1,ys2]\n",
    "\n",
    "xs, ys\n",
    "\n",
    "plot_robots(xs, ys, tar_rel)\n",
    "\n",
    "plt.figure(figsize=(8,8))\n",
    "plt.plot(e_trace)\n",
    "plt.title('Error Trace')"
   ]
  },
  {
   "cell_type": "code",
   "execution_count": null,
   "metadata": {},
   "outputs": [],
   "source": []
  }
 ],
 "metadata": {
  "kernelspec": {
   "display_name": "Python 3",
   "language": "python",
   "name": "python3"
  },
  "language_info": {
   "codemirror_mode": {
    "name": "ipython",
    "version": 3
   },
   "file_extension": ".py",
   "mimetype": "text/x-python",
   "name": "python",
   "nbconvert_exporter": "python",
   "pygments_lexer": "ipython3",
   "version": "3.8.5"
  },
  "varInspector": {
   "cols": {
    "lenName": 16,
    "lenType": 16,
    "lenVar": 40
   },
   "kernels_config": {
    "python": {
     "delete_cmd_postfix": "",
     "delete_cmd_prefix": "del ",
     "library": "var_list.py",
     "varRefreshCmd": "print(var_dic_list())"
    },
    "r": {
     "delete_cmd_postfix": ") ",
     "delete_cmd_prefix": "rm(",
     "library": "var_list.r",
     "varRefreshCmd": "cat(var_dic_list()) "
    }
   },
   "types_to_exclude": [
    "module",
    "function",
    "builtin_function_or_method",
    "instance",
    "_Feature"
   ],
   "window_display": false
  }
 },
 "nbformat": 4,
 "nbformat_minor": 4
}
