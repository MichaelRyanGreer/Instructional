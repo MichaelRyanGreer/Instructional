{
 "cells": [
  {
   "cell_type": "code",
   "execution_count": 2,
   "metadata": {
    "ExecuteTime": {
     "end_time": "2021-01-23T02:56:57.582989Z",
     "start_time": "2021-01-23T02:56:57.051727Z"
    }
   },
   "outputs": [],
   "source": [
    "import numpy as np\n",
    "from numpy import cos, sin, pi\n",
    "\n",
    "import matplotlib.pyplot as plt\n",
    "\n",
    "import sympy as sp"
   ]
  },
  {
   "cell_type": "code",
   "execution_count": 4,
   "metadata": {
    "ExecuteTime": {
     "end_time": "2021-01-23T03:06:46.507768Z",
     "start_time": "2021-01-23T03:06:46.503717Z"
    }
   },
   "outputs": [],
   "source": [
    "# list of DH parameters\n",
    "# Structure is d, theta, a, alpha in each row\n",
    "\n",
    "# These parameters are based on the Sixi2 from Marginally Clever\n",
    "\n",
    "# The theta angles are also referred to as qi\n",
    "\n",
    "DOF = 6\n",
    "\n",
    "q1, q2, q3, q4, q5, q6 = sp.symbols('q1 q2 q3 q4 q5 q6')\n",
    "\n",
    "# Define DH table\n",
    "\n",
    "DH_params = []\n",
    "\n",
    "DH_params.append([19.7452, q1, 0, -pi/2])\n",
    "DH_params.append([0, q2, 35.796, 0])\n",
    "DH_params.append([0, q3, 6.4259, -pi/2])\n",
    "DH_params.append([38.705, q4, pi/2])\n",
    "DH_params.append([0, q5, 0, -pi/2])\n",
    "DH_params.append([3.795, q6, 0, 0])\n",
    "DH_params.append([2.75, 0, 0, 0])"
   ]
  },
  {
   "cell_type": "code",
   "execution_count": null,
   "metadata": {},
   "outputs": [],
   "source": [
    "# Using the combined DH matrix\n",
    "def DH_trans_matrix(params):\n",
    "    \n",
    "    d, theta, a, alpha = (params[0], params[1], params[2], params[3])\n",
    "    \n",
    "    mat = np.array([[sp.cos(theta), -1*sp.sin(theta)*sp.cos(alpha), sp.sin(theta)*sp.sin(alpha),    a*sp.cos(theta)],\n",
    "                    [sp.sin(theta), sp.cos(theta)*sp.cos(alpha),    -1*sp.cos(theta)*sp.sin(alpha), a*sp.sin(theta)],\n",
    "                    [0,             sp.sin(alpha),                  sp.cos(alpha),                  d],\n",
    "                    [0,             0,                              0,                              1]])\n",
    "    \n",
    "    return mat"
   ]
  },
  {
   "cell_type": "code",
   "execution_count": null,
   "metadata": {},
   "outputs": [],
   "source": []
  }
 ],
 "metadata": {
  "kernelspec": {
   "display_name": "Python 3",
   "language": "python",
   "name": "python3"
  },
  "language_info": {
   "codemirror_mode": {
    "name": "ipython",
    "version": 3
   },
   "file_extension": ".py",
   "mimetype": "text/x-python",
   "name": "python",
   "nbconvert_exporter": "python",
   "pygments_lexer": "ipython3",
   "version": "3.8.5"
  },
  "varInspector": {
   "cols": {
    "lenName": 16,
    "lenType": 16,
    "lenVar": 40
   },
   "kernels_config": {
    "python": {
     "delete_cmd_postfix": "",
     "delete_cmd_prefix": "del ",
     "library": "var_list.py",
     "varRefreshCmd": "print(var_dic_list())"
    },
    "r": {
     "delete_cmd_postfix": ") ",
     "delete_cmd_prefix": "rm(",
     "library": "var_list.r",
     "varRefreshCmd": "cat(var_dic_list()) "
    }
   },
   "types_to_exclude": [
    "module",
    "function",
    "builtin_function_or_method",
    "instance",
    "_Feature"
   ],
   "window_display": false
  }
 },
 "nbformat": 4,
 "nbformat_minor": 4
}
